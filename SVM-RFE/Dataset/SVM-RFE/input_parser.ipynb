{
 "cells": [
  {
   "cell_type": "code",
   "execution_count": 1,
   "source": [
    "f = open(\"./GDS4602.soft\")\n",
    "fin = f.read().split(\"\\n\")\n",
    "f.close()"
   ],
   "outputs": [],
   "metadata": {}
  },
  {
   "cell_type": "code",
   "execution_count": 5,
   "source": [
    "healthy = fin[27].split(\" = \")[1].split(\",\")"
   ],
   "outputs": [],
   "metadata": {}
  },
  {
   "cell_type": "code",
   "execution_count": 7,
   "source": [
    "psoriasis = fin[32].split(\" = \")[1].split(\",\")"
   ],
   "outputs": [],
   "metadata": {}
  },
  {
   "cell_type": "code",
   "execution_count": 14,
   "source": [
    "healthy_tuple = []\n",
    "for one, item in zip([1]*len(healthy), healthy):\n",
    "    healthy_tuple.append([one, item])\n",
    "\n",
    "psoriasis_tuple = []\n",
    "for one, item in zip([-1]*len(psoriasis), psoriasis):\n",
    "    psoriasis_tuple.append([one, item])\n"
   ],
   "outputs": [],
   "metadata": {}
  },
  {
   "cell_type": "code",
   "execution_count": 17,
   "source": [
    "total = healthy_tuple + psoriasis_tuple\n",
    "total.sort(key = lambda x : x[1])"
   ],
   "outputs": [],
   "metadata": {}
  },
  {
   "cell_type": "code",
   "execution_count": 45,
   "source": [
    "top_array = []\n",
    "for t in total:\n",
    "    top_array.append(t[0])"
   ],
   "outputs": [],
   "metadata": {}
  },
  {
   "cell_type": "code",
   "execution_count": 55,
   "source": [
    "print_array = []\n",
    "print_array.append(top_array)"
   ],
   "outputs": [],
   "metadata": {}
  },
  {
   "cell_type": "code",
   "execution_count": 56,
   "source": [
    "for line in fin[234:]:\n",
    "    if(line == \"!dataset_table_end\"):\n",
    "        break\n",
    "    print_array.append(list(line.split('\\t')[2:]))"
   ],
   "outputs": [],
   "metadata": {}
  },
  {
   "cell_type": "code",
   "execution_count": 28,
   "source": [
    "import numpy as np"
   ],
   "outputs": [],
   "metadata": {}
  },
  {
   "cell_type": "code",
   "execution_count": 58,
   "source": [
    "np_p_array = np.asarray(print_array, dtype='object')"
   ],
   "outputs": [],
   "metadata": {}
  },
  {
   "cell_type": "code",
   "execution_count": 63,
   "source": [
    "np_p_array = np_p_array.transpose()"
   ],
   "outputs": [],
   "metadata": {}
  },
  {
   "cell_type": "code",
   "execution_count": 66,
   "source": [
    "np_p_array.astype(float)"
   ],
   "outputs": [
    {
     "output_type": "execute_result",
     "data": {
      "text/plain": [
       "array([[ 1.      ,  0.039595, -0.253107, ..., -0.192687, -0.073284,\n",
       "        -0.122345],\n",
       "       [ 1.      ,  0.329659,  0.204677, ...,  0.462876,  0.213415,\n",
       "         0.266793],\n",
       "       [ 1.      ,  0.217226, -0.132534, ...,  0.163201,  0.159849,\n",
       "         0.171542],\n",
       "       ...,\n",
       "       [-1.      , -0.24435 ,  0.180271, ..., -0.145089, -0.163641,\n",
       "        -0.153377],\n",
       "       [-1.      ,  0.112578,  0.362564, ...,  0.702237,  0.300115,\n",
       "         0.352793],\n",
       "       [-1.      , -0.147742,  0.498948, ..., -0.15472 , -0.316257,\n",
       "        -0.170783]])"
      ]
     },
     "metadata": {},
     "execution_count": 66
    }
   ],
   "metadata": {}
  },
  {
   "cell_type": "code",
   "execution_count": 70,
   "source": [
    "np.savetxt(\"text.out\", np_p_array, fmt='%s' ,delimiter=\"\\t\")"
   ],
   "outputs": [],
   "metadata": {}
  },
  {
   "cell_type": "code",
   "execution_count": 71,
   "source": [
    "len(np_p_array[0])"
   ],
   "outputs": [
    {
     "output_type": "execute_result",
     "data": {
      "text/plain": [
       "54676"
      ]
     },
     "metadata": {},
     "execution_count": 71
    }
   ],
   "metadata": {}
  },
  {
   "cell_type": "code",
   "execution_count": 72,
   "source": [
    "len(np_p_array)"
   ],
   "outputs": [
    {
     "output_type": "execute_result",
     "data": {
      "text/plain": [
       "180"
      ]
     },
     "metadata": {},
     "execution_count": 72
    }
   ],
   "metadata": {}
  },
  {
   "cell_type": "code",
   "execution_count": null,
   "source": [],
   "outputs": [],
   "metadata": {}
  }
 ],
 "metadata": {
  "orig_nbformat": 4,
  "language_info": {
   "name": "python",
   "version": "3.8.8",
   "mimetype": "text/x-python",
   "codemirror_mode": {
    "name": "ipython",
    "version": 3
   },
   "pygments_lexer": "ipython3",
   "nbconvert_exporter": "python",
   "file_extension": ".py"
  },
  "kernelspec": {
   "name": "python3",
   "display_name": "Python 3.8.8 64-bit ('base': conda)"
  },
  "interpreter": {
   "hash": "b0c798c30f3a1c784afc9dcf7ea2f1d9c33182b6fdfe436a53d2027ade163afc"
  }
 },
 "nbformat": 4,
 "nbformat_minor": 2
}